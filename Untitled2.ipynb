{
  "nbformat": 4,
  "nbformat_minor": 0,
  "metadata": {
    "colab": {
      "provenance": [],
      "authorship_tag": "ABX9TyPW3N8yQDw8FpqjyROEPP9x",
      "include_colab_link": true
    },
    "kernelspec": {
      "name": "python3",
      "display_name": "Python 3"
    },
    "language_info": {
      "name": "python"
    }
  },
  "cells": [
    {
      "cell_type": "markdown",
      "metadata": {
        "id": "view-in-github",
        "colab_type": "text"
      },
      "source": [
        "<a href=\"https://colab.research.google.com/github/NilsonJTS/JogoDePalSecretPythonColab/blob/main/Untitled2.ipynb\" target=\"_parent\"><img src=\"https://colab.research.google.com/assets/colab-badge.svg\" alt=\"Open In Colab\"/></a>"
      ]
    },
    {
      "cell_type": "markdown",
      "source": [
        "primeiro importamos o requests, que é um recurso tirado de uma API, ele vai simplificar a busca de um objeto ou material da internet atavés de um http (url).\n",
        "e jogamos a url dentro de uma var url, isso vai simplificar pois, podemos usar url dentro da requst. Que é o que fizemos logo abaixo, jogando esta request dentro de uma var resposta: resposta = requests.get(url).\n",
        "Este arquivo baixado é um Json, e para ver o conteúdo arquivado na var resposta é necessário apontar o arquivo json():  resposta.json()."
      ],
      "metadata": {
        "id": "yf4cM_rENGCh"
      }
    },
    {
      "cell_type": "code",
      "execution_count": null,
      "metadata": {
        "colab": {
          "base_uri": "https://localhost:8080/"
        },
        "collapsed": true,
        "id": "l3uspRTHI5dA",
        "outputId": "895ff36f-f678-4ed5-93f3-0b58766b991e"
      },
      "outputs": [
        {
          "output_type": "execute_result",
          "data": {
            "text/plain": [
              "[{'palavra': 'python',\n",
              "  'dica': 'automatizar tarefas e desenvolver aplicações web.'},\n",
              " {'palavra': 'javascript',\n",
              "  'dica': 'criar interatividade em páginas web e desenvolver aplicações front-end.'},\n",
              " {'palavra': 'java',\n",
              "  'dica': 'desenvolver aplicações empresariais e para dispositivos móveis.'},\n",
              " {'palavra': 'html', 'dica': 'estruturar conteúdo em páginas web.'},\n",
              " {'palavra': 'css', 'dica': 'estilizar elementos em páginas web.'},\n",
              " {'palavra': 'sql',\n",
              "  'dica': 'gerenciar e consultar bancos de dados relacionais.'},\n",
              " {'palavra': 'react',\n",
              "  'dica': 'desenvolver interfaces de usuário reativas e escaláveis.'},\n",
              " {'palavra': 'angular',\n",
              "  'dica': 'construir aplicativos web spa (single page application) complexos.'},\n",
              " {'palavra': 'node',\n",
              "  'dica': 'criar aplicativos de servidor escaláveis e de alta performance.'},\n",
              " {'palavra': 'vue',\n",
              "  'dica': 'desenvolver interfaces de usuário interativas e dinâmicas.'},\n",
              " {'palavra': 'ruby',\n",
              "  'dica': 'desenvolver aplicações web e scripts de automação.'},\n",
              " {'palavra': 'php',\n",
              "  'dica': 'construir aplicações web dinâmicas e interativas.'},\n",
              " {'palavra': 'c++',\n",
              "  'dica': 'desenvolver software de sistema, jogos e aplicações de alto desempenho.'},\n",
              " {'palavra': 'c#',\n",
              "  'dica': 'desenvolver aplicações windows e jogos utilizando o framework .net.'},\n",
              " {'palavra': 'swift',\n",
              "  'dica': 'desenvolver aplicativos para dispositivos apple, como iphone e ipad.'},\n",
              " {'palavra': 'kotlin',\n",
              "  'dica': 'desenvolver aplicativos android modernos e seguros.'},\n",
              " {'palavra': 'tensorflow',\n",
              "  'dica': 'construir e treinar modelos de aprendizado de máquina.'},\n",
              " {'palavra': 'pytorch',\n",
              "  'dica': 'desenvolver e treinar modelos de aprendizado profundo.'},\n",
              " {'palavra': 'mongodb',\n",
              "  'dica': 'armazenar e consultar dados de forma flexível e escalável.'},\n",
              " {'palavra': 'postgresql',\n",
              "  'dica': 'gerenciar dados estruturados e relacionais com segurança.'},\n",
              " {'palavra': 'docker',\n",
              "  'dica': 'empacotar, distribuir e executar aplicativos em contêineres.'},\n",
              " {'palavra': 'kubernetes',\n",
              "  'dica': 'orquestrar e gerenciar contêineres em ambientes de produção.'},\n",
              " {'palavra': 'git',\n",
              "  'dica': 'controlar e colaborar no desenvolvimento de código-fonte.'},\n",
              " {'palavra': 'jupyter',\n",
              "  'dica': 'criar e compartilhar documentos que contenham código interativo, visualizações e textos explicativos.'},\n",
              " {'palavra': 'r',\n",
              "  'dica': 'analisar dados e criar visualizações estatísticas.'},\n",
              " {'palavra': 'scala',\n",
              "  'dica': 'desenvolver aplicativos escaláveis e concorrentes na jvm.'},\n",
              " {'palavra': 'hadoop',\n",
              "  'dica': 'armazenar e processar grandes volumes de dados em clusters distribuídos.'},\n",
              " {'palavra': 'spark',\n",
              "  'dica': 'processar e analisar dados de forma rápida e escalável.'},\n",
              " {'palavra': 'arduino',\n",
              "  'dica': 'desenvolver projetos eletrônicos interativos e automatizados.'},\n",
              " {'palavra': 'raspberry',\n",
              "  'dica': 'criar dispositivos e projetos de iot (internet das coisas) com baixo custo.'},\n",
              " {'palavra': 'linux',\n",
              "  'dica': 'utilizar e administrar sistemas operacionais de código aberto.'},\n",
              " {'palavra': 'windows',\n",
              "  'dica': 'desenvolver aplicativos e sistemas operacionais para computadores pessoais.'},\n",
              " {'palavra': 'macos',\n",
              "  'dica': 'desenvolver aplicativos para computadores apple e sistemas operacionais.'},\n",
              " {'palavra': 'android',\n",
              "  'dica': 'desenvolver aplicativos para dispositivos móveis android.'},\n",
              " {'palavra': 'ios',\n",
              "  'dica': 'desenvolver aplicativos para dispositivos móveis apple (iphone e ipad).'},\n",
              " {'palavra': 'firebase',\n",
              "  'dica': 'desenvolver aplicativos móveis e web com uma plataforma de backend escalável.'},\n",
              " {'palavra': 'aws',\n",
              "  'dica': 'implantar e gerenciar aplicativos em uma plataforma de nuvem líder de mercado.'},\n",
              " {'palavra': 'azure',\n",
              "  'dica': 'desenvolver, implantar e gerenciar aplicativos em uma plataforma de nuvem da microsoft.'},\n",
              " {'palavra': 'google',\n",
              "  'dica': 'utilizar serviços e produtos da google para desenvolvimento e negócios.'},\n",
              " {'palavra': 'api',\n",
              "  'dica': 'integrar e comunicar sistemas e serviços de software.'},\n",
              " {'palavra': 'rest',\n",
              "  'dica': 'criar e consumir apis web de maneira simples e eficiente.'},\n",
              " {'palavra': 'graphql',\n",
              "  'dica': 'consultar e manipular dados de forma eficiente e flexível.'},\n",
              " {'palavra': 'oauth',\n",
              "  'dica': 'implementar autenticação e autorização em aplicativos.'}]"
            ]
          },
          "metadata": {},
          "execution_count": 4
        }
      ],
      "source": [
        "#Trazendo uma biblioteca capaz de executar requisições http\n",
        "import requests\n",
        "\n",
        "#criei uma var que armazena a url\n",
        "url= 'https://raw.githubusercontent.com/guilhermeonrails/api-imersao-ia/main/words.json'\n",
        "\n",
        "#Faço a requisição e armazeno em uma var, e armazeno a resposta no formato json em outra var\n",
        "resposta = requests.get(url)\n",
        "data = resposta.json()\n",
        "\n",
        "#imprimo a resposta na tela\n",
        "data"
      ]
    },
    {
      "cell_type": "markdown",
      "source": [
        "podemos observar pela resposta que o arquivo contém uma lista de bibliotecas, ou seja, uma array com diversos objetos, em cada index da array tem um objeto com duas chaves e dois valores. Vamos acessar estes dados abaixo."
      ],
      "metadata": {
        "id": "KvEA7ws3OJdp"
      }
    },
    {
      "cell_type": "markdown",
      "source": [
        "observação: ele mostrou que usar o index -1 é uma solução para acessar o último index, ou seja, mesmo se não souber a qt de index do array, é possível acessar o ultimo com -1 como se fosse um loop onde depois de percorrer até chegar ao primeiro, pudéssemos recomeçar pelo ultimo. Sendo assim, o -2 seria o penultimo, o -3 seria o antepenúltimo etc... exemplo: resposta[-1]\n"
      ],
      "metadata": {
        "id": "yzn3qxKyOuTw"
      }
    },
    {
      "cell_type": "code",
      "source": [
        "#importo a biblioteca random\n",
        "import random\n",
        "\n",
        "#aqui o random escolhe um valor limitado pela qt de ítens da array/lista data\n",
        "valorSecreto = random.choice(data)\n",
        "\n",
        "#Puxo para dentro da var palavraSecreta apenas o valor da biblioteca/objeto usando a chave palavra, e abaixo faço o mesmo usando a chave dica dentro da var valorSecreto\n",
        "palavraSecreta = valorSecreto['palavra']\n",
        "dica = valorSecreto['dica']\n",
        "\n",
        "#Farei agora um print com a qt de letras da palavra secreta e a dica, e logo após um input para permitir que a pessoa escreva seu palpite de palavra secreta.\n",
        "chute = input(f'A palavra secreta tem {len(palavraSecreta)} letras.\\nA dica é: {dica}\\nO que você acha que é? ')\n",
        "\n",
        "#Se o chute for igual a palavra secreta, faça isso, se não, faça isso:\n",
        "if chute == palavraSecreta:\n",
        "  print('Acertou!')\n",
        "else:\n",
        "  print(f'Errou! A palavra secreta certa era {palavraSecreta}')"
      ],
      "metadata": {
        "id": "yxMJHh-_MIWu"
      },
      "execution_count": null,
      "outputs": []
    },
    {
      "cell_type": "code",
      "source": [],
      "metadata": {
        "id": "MC04qTC_TyD0"
      },
      "execution_count": null,
      "outputs": []
    }
  ]
}